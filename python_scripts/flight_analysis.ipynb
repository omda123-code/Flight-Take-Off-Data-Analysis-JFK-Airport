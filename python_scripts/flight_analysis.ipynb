{
 "cells": [
  {
   "cell_type": "code",
   "execution_count": 1,
   "id": "ead1eff2-d0d3-45e8-aa0c-20adf9d626b2",
   "metadata": {},
   "outputs": [],
   "source": [
    "import pandas as pd\n",
    "import seaborn as sns\n",
    "import matplotlib.pyplot as plt\n",
    "import os"
   ]
  },
  {
   "cell_type": "code",
   "execution_count": 2,
   "id": "1caa9844-ef29-4723-bada-c58a7d8ded14",
   "metadata": {},
   "outputs": [],
   "source": [
    "# -------------------------------------------------------------\n",
    "# Visualization style setup\n",
    "# -------------------------------------------------------------\n",
    "sns.set(style=\"whitegrid\")\n",
    "plt.rcParams['axes.unicode_minus'] = False"
   ]
  },
  {
   "cell_type": "code",
   "execution_count": 3,
   "id": "7582f6bc-13db-4ac7-963b-959322d6af3c",
   "metadata": {},
   "outputs": [],
   "source": [
    "# -------------------------------------------------------------\n",
    "# Load the dataset\n",
    "# -------------------------------------------------------------\n",
    "# Change the file path to your dataset\n",
    "data = pd.read_csv(\"flights_data.csv\")\n",
    "\n",
    "# Create a folder for saving charts\n",
    "os.makedirs(\"charts\", exist_ok=True)"
   ]
  },
  {
   "cell_type": "code",
   "execution_count": 4,
   "id": "7fcd7024-9257-48f9-acea-f766e1bb46bc",
   "metadata": {},
   "outputs": [],
   "source": [
    "# -------------------------------------------------------------\n",
    "# Helper function to save charts\n",
    "# -------------------------------------------------------------\n",
    "def save_chart(name):\n",
    "    \"\"\"Save current matplotlib figure to charts folder.\"\"\"\n",
    "    path = os.path.join(\"charts\", f\"{name}.png\")\n",
    "    plt.tight_layout()\n",
    "    plt.savefig(path, dpi=300)\n",
    "    plt.close()\n",
    "    print(f\"✅ Chart saved: {path}\")"
   ]
  },
  {
   "cell_type": "code",
   "execution_count": 6,
   "id": "78f4870e-d482-4b76-853d-844f338c9616",
   "metadata": {},
   "outputs": [
    {
     "name": "stdout",
     "output_type": "stream",
     "text": [
      "✅ Chart saved: charts\\avg_delay_per_carrier.png\n"
     ]
    }
   ],
   "source": [
    "# -------------------------------------------------------------\n",
    "# 1. Average departure delay per carrier\n",
    "# -------------------------------------------------------------\n",
    "avg_delay_carrier = data.groupby(\"OP_UNIQUE_CARRIER\")[\"DEP_DELAY\"].mean().reset_index()\n",
    "plt.figure(figsize=(10,5))\n",
    "sns.barplot(x=\"OP_UNIQUE_CARRIER\", y=\"DEP_DELAY\", data=avg_delay_carrier,hue=\"OP_UNIQUE_CARRIER\", palette=\"coolwarm\")\n",
    "plt.title(\"Average Departure Delay per Carrier\")\n",
    "plt.xlabel(\"Carrier\")\n",
    "plt.ylabel(\"Average Delay (minutes)\")\n",
    "save_chart(\"avg_delay_per_carrier\")"
   ]
  },
  {
   "cell_type": "code",
   "execution_count": 7,
   "id": "27e3f24b-d5a8-47c9-9ff3-89235e4fed3d",
   "metadata": {},
   "outputs": [
    {
     "name": "stdout",
     "output_type": "stream",
     "text": [
      "✅ Chart saved: charts\\flights_per_destination.png\n"
     ]
    }
   ],
   "source": [
    "# -------------------------------------------------------------\n",
    "# 2. Total flights per destination\n",
    "# -------------------------------------------------------------\n",
    "flights_per_dest = data[\"DEST\"].value_counts().reset_index()\n",
    "flights_per_dest.columns = [\"DEST\", \"Total_Flights\"]\n",
    "plt.figure(figsize=(10,5))\n",
    "sns.barplot(x=\"DEST\", y=\"Total_Flights\", data=flights_per_dest.head(15))\n",
    "plt.title(\"Top 15 Destinations by Flight Count\")\n",
    "save_chart(\"flights_per_destination\")"
   ]
  },
  {
   "cell_type": "code",
   "execution_count": 9,
   "id": "1add9fd8-938f-4541-9829-2116eb0eece8",
   "metadata": {},
   "outputs": [
    {
     "name": "stdout",
     "output_type": "stream",
     "text": [
      "✅ Chart saved: charts\\avg_distance_per_carrier.png\n"
     ]
    }
   ],
   "source": [
    "# -------------------------------------------------------------\n",
    "# 3. Average flight distance per carrier\n",
    "# -------------------------------------------------------------\n",
    "avg_distance_carrier = data.groupby(\"OP_UNIQUE_CARRIER\")[\"DISTANCE\"].mean().reset_index()\n",
    "plt.figure(figsize=(10,5))\n",
    "sns.barplot(x=\"OP_UNIQUE_CARRIER\", y=\"DISTANCE\", data=avg_distance_carrier,hue=\"OP_UNIQUE_CARRIER\" ,palette=\"Blues_d\")\n",
    "plt.title(\"Average Flight Distance per Carrier\")\n",
    "plt.xlabel(\"Carrier\")\n",
    "plt.ylabel(\"Average Distance (miles)\")\n",
    "save_chart(\"avg_distance_per_carrier\")"
   ]
  },
  {
   "cell_type": "code",
   "execution_count": 10,
   "id": "2502b16a-251c-4f0c-8dc0-8c1843ec2418",
   "metadata": {},
   "outputs": [
    {
     "name": "stdout",
     "output_type": "stream",
     "text": [
      "✅ Chart saved: charts\\avg_delay_by_flight_type.png\n"
     ]
    }
   ],
   "source": [
    "# -------------------------------------------------------------\n",
    "# 4. Delay vs Flight Type (Short/Medium/Long Haul)\n",
    "# -------------------------------------------------------------\n",
    "def categorize_distance(d):\n",
    "    if d < 500:\n",
    "        return \"Short Haul\"\n",
    "    elif 500 <= d <= 1500:\n",
    "        return \"Medium Haul\"\n",
    "    else:\n",
    "        return \"Long Haul\"\n",
    "\n",
    "data[\"Flight_Type\"] = data[\"DISTANCE\"].apply(categorize_distance)\n",
    "avg_delay_type = data.groupby(\"Flight_Type\")[\"DEP_DELAY\"].mean().reset_index()\n",
    "plt.figure(figsize=(6,4))\n",
    "sns.barplot(x=\"Flight_Type\", y=\"DEP_DELAY\", data=avg_delay_type,hue=\"Flight_Type\" ,palette=\"Set2\")\n",
    "plt.title(\"Average Delay by Flight Type\")\n",
    "plt.xlabel(\"Flight Type\")\n",
    "plt.ylabel(\"Average Delay (minutes)\")\n",
    "save_chart(\"avg_delay_by_flight_type\")"
   ]
  },
  {
   "cell_type": "code",
   "execution_count": 11,
   "id": "d7a93099-ffa0-4c8f-9127-0cff5cf5cebf",
   "metadata": {},
   "outputs": [
    {
     "name": "stdout",
     "output_type": "stream",
     "text": [
      "✅ Chart saved: charts\\avg_delay_by_weekday.png\n"
     ]
    }
   ],
   "source": [
    "# -------------------------------------------------------------\n",
    "# 5. Average delay by day of week\n",
    "# -------------------------------------------------------------\n",
    "avg_delay_weekday = data.groupby(\"DAY_OF_WEEK\")[\"DEP_DELAY\"].mean().reset_index()\n",
    "plt.figure(figsize=(8,4))\n",
    "sns.lineplot(x=\"DAY_OF_WEEK\", y=\"DEP_DELAY\", data=avg_delay_weekday, marker=\"o\")\n",
    "plt.title(\"Average Delay by Day of Week\")\n",
    "plt.xlabel(\"Day of Week\")\n",
    "plt.ylabel(\"Average Delay (minutes)\")\n",
    "save_chart(\"avg_delay_by_weekday\")"
   ]
  },
  {
   "cell_type": "code",
   "execution_count": 12,
   "id": "b61b0b7a-ded9-4079-8435-fa6234400b5f",
   "metadata": {},
   "outputs": [
    {
     "name": "stdout",
     "output_type": "stream",
     "text": [
      "✅ Chart saved: charts\\on_time_vs_delayed.png\n"
     ]
    }
   ],
   "source": [
    "# -------------------------------------------------------------\n",
    "# 6. On-time vs Delayed flights\n",
    "# -------------------------------------------------------------\n",
    "delayed = (data[\"DEP_DELAY\"] > 15).mean() * 100\n",
    "on_time = 100 - delayed\n",
    "plt.figure(figsize=(5,5))\n",
    "plt.pie([on_time, delayed], labels=[\"On Time\", \"Delayed\"], autopct=\"%.1f%%\", colors=[\"#8BC34A\", \"#F44336\"])\n",
    "plt.title(\"On-time vs Delayed Flights\")\n",
    "save_chart(\"on_time_vs_delayed\")"
   ]
  },
  {
   "cell_type": "code",
   "execution_count": 13,
   "id": "80d76b38-85f2-4355-b4a5-77844a3c8bf1",
   "metadata": {},
   "outputs": [
    {
     "name": "stdout",
     "output_type": "stream",
     "text": [
      "✅ Chart saved: charts\\avg_taxi_out_destination.png\n"
     ]
    }
   ],
   "source": [
    "# -------------------------------------------------------------\n",
    "# 7. Average taxi-out time per destination\n",
    "# -------------------------------------------------------------\n",
    "avg_taxi_dest = data.groupby(\"DEST\")[\"TAXI_OUT\"].mean().reset_index()\n",
    "plt.figure(figsize=(10,5))\n",
    "sns.barplot(x=\"DEST\", y=\"TAXI_OUT\", data=avg_taxi_dest.head(15),hue=\"DEST\", palette=\"Purples\")\n",
    "plt.title(\"Average Taxi-Out Time per Destination\")\n",
    "plt.xlabel(\"Destination\")\n",
    "plt.ylabel(\"Average Taxi-Out (minutes)\")\n",
    "save_chart(\"avg_taxi_out_destination\")"
   ]
  },
  {
   "cell_type": "code",
   "execution_count": 14,
   "id": "d6d48a1b-3d01-4d97-b015-f535a1c18ba7",
   "metadata": {},
   "outputs": [
    {
     "name": "stdout",
     "output_type": "stream",
     "text": [
      "✅ Chart saved: charts\\avg_delay_by_weather.png\n"
     ]
    }
   ],
   "source": [
    "# -------------------------------------------------------------\n",
    "# 8. Weather condition impact on delay\n",
    "# -------------------------------------------------------------\n",
    "avg_delay_weather = data.groupby(\"Condition\")[\"DEP_DELAY\"].mean().reset_index()\n",
    "plt.figure(figsize=(10,5))\n",
    "sns.barplot(x=\"DEP_DELAY\", y=\"Condition\", data=avg_delay_weather,hue=\"DEP_DELAY\" ,palette=\"rocket\")\n",
    "plt.title(\"Average Delay by Weather Condition\")\n",
    "plt.xlabel(\"Average Delay (minutes)\")\n",
    "plt.ylabel(\"Weather Condition\")\n",
    "save_chart(\"avg_delay_by_weather\")"
   ]
  },
  {
   "cell_type": "code",
   "execution_count": 15,
   "id": "9d1d7a9a-349f-4c77-bb0a-14e2ed97add3",
   "metadata": {},
   "outputs": [
    {
     "name": "stdout",
     "output_type": "stream",
     "text": [
      "✅ Chart saved: charts\\longest_scheduled_flights.png\n"
     ]
    }
   ],
   "source": [
    "# -------------------------------------------------------------\n",
    "# 9. Top 10 longest scheduled flights\n",
    "# -------------------------------------------------------------\n",
    "top_long = data.nlargest(10, \"CRS_ELAPSED_TIME\")\n",
    "plt.figure(figsize=(10,5))\n",
    "sns.barplot(y=\"DEST\", x=\"CRS_ELAPSED_TIME\", data=top_long, hue=\"OP_UNIQUE_CARRIER\")\n",
    "plt.title(\"Top 10 Longest Scheduled Flights\")\n",
    "plt.xlabel(\"Scheduled Time (minutes)\")\n",
    "plt.ylabel(\"Destination\")\n",
    "save_chart(\"longest_scheduled_flights\")"
   ]
  },
  {
   "cell_type": "code",
   "execution_count": 16,
   "id": "e31ccb18-8df5-4edd-bc7b-bc283e3c0531",
   "metadata": {},
   "outputs": [
    {
     "name": "stdout",
     "output_type": "stream",
     "text": [
      "✅ Chart saved: charts\\departure_deviation_per_carrier.png\n"
     ]
    }
   ],
   "source": [
    "# -------------------------------------------------------------\n",
    "# 10. Average departure deviation per carrier\n",
    "# -------------------------------------------------------------\n",
    "data[\"Deviation\"] = data[\"DEP_TIME_M\"] - data[\"CRS_DEP_M\"]\n",
    "avg_dev = data.groupby(\"OP_UNIQUE_CARRIER\")[\"Deviation\"].mean().reset_index()\n",
    "plt.figure(figsize=(10,5))\n",
    "sns.barplot(x=\"OP_UNIQUE_CARRIER\", y=\"Deviation\", data=avg_dev)\n",
    "plt.title(\"Average Departure Deviation per Carrier\")\n",
    "plt.xlabel(\"Carrier\")\n",
    "plt.ylabel(\"Deviation (minutes)\")\n",
    "save_chart(\"departure_deviation_per_carrier\")"
   ]
  },
  {
   "cell_type": "code",
   "execution_count": 17,
   "id": "676007e0-26ef-4761-9cd2-6132cca5b27b",
   "metadata": {},
   "outputs": [
    {
     "name": "stdout",
     "output_type": "stream",
     "text": [
      "✅ Chart saved: charts\\monthly_avg_delay.png\n"
     ]
    }
   ],
   "source": [
    "# -------------------------------------------------------------\n",
    "# 11. Monthly delay trend\n",
    "# -------------------------------------------------------------\n",
    "avg_delay_month = data.groupby(\"MONTH\")[\"DEP_DELAY\"].mean().reset_index()\n",
    "plt.figure(figsize=(8,4))\n",
    "sns.lineplot(x=\"MONTH\", y=\"DEP_DELAY\", data=avg_delay_month, marker=\"o\", color=\"darkorange\")\n",
    "plt.title(\"Monthly Average Departure Delay\")\n",
    "plt.xlabel(\"Month\")\n",
    "plt.ylabel(\"Average Delay (minutes)\")\n",
    "save_chart(\"monthly_avg_delay\")"
   ]
  },
  {
   "cell_type": "code",
   "execution_count": 21,
   "id": "f9076eaf-35c0-4c22-8d88-fb34b7cee3c0",
   "metadata": {},
   "outputs": [
    {
     "name": "stdout",
     "output_type": "stream",
     "text": [
      "✅ Chart saved: charts\\wind_vs_taxiout.png\n"
     ]
    }
   ],
   "source": [
    "# -------------------------------------------------------------\n",
    "# 12. Wind speed vs taxi-out time\n",
    "# -------------------------------------------------------------\n",
    "plt.figure(figsize=(8,5))\n",
    "sns.scatterplot(x=\"Wind Speed\", y=\"TAXI_OUT\", data=data, alpha=0.6)\n",
    "plt.title(\"Wind Speed vs Taxi-Out Time\")\n",
    "plt.xlabel(\"Wind Speed (mph)\")\n",
    "plt.ylabel(\"Taxi-Out (minutes)\")\n",
    "save_chart(\"wind_vs_taxiout\")"
   ]
  },
  {
   "cell_type": "code",
   "execution_count": 22,
   "id": "77c2a979-c709-414c-8ec3-0196a09002d6",
   "metadata": {},
   "outputs": [
    {
     "name": "stdout",
     "output_type": "stream",
     "text": [
      "✅ Chart saved: charts\\humidity_vs_delay_condition.png\n"
     ]
    }
   ],
   "source": [
    "# -------------------------------------------------------------\n",
    "# 13. Humidity vs delay by weather condition\n",
    "# -------------------------------------------------------------\n",
    "avg_hum_delay = data.groupby(\"Condition\")[[\"Humidity\",\"DEP_DELAY\"]].mean().reset_index()\n",
    "plt.figure(figsize=(10,5))\n",
    "sns.scatterplot(x=\"Humidity\", y=\"DEP_DELAY\", hue=\"Condition\", data=avg_hum_delay, s=100)\n",
    "plt.title(\"Humidity vs Delay by Weather Condition\")\n",
    "plt.xlabel(\"Average Humidity (%)\")\n",
    "plt.ylabel(\"Average Delay (minutes)\")\n",
    "save_chart(\"humidity_vs_delay_condition\")"
   ]
  },
  {
   "cell_type": "code",
   "execution_count": 23,
   "id": "1daa59f2-6e71-4ad1-b5fe-4959be5dd35c",
   "metadata": {},
   "outputs": [
    {
     "name": "stdout",
     "output_type": "stream",
     "text": [
      "✅ Chart saved: charts\\pressure_vs_delay.png\n"
     ]
    }
   ],
   "source": [
    "# -------------------------------------------------------------\n",
    "# 14. Pressure vs delay\n",
    "# -------------------------------------------------------------\n",
    "plt.figure(figsize=(8,5))\n",
    "sns.scatterplot(x=\"Pressure\", y=\"DEP_DELAY\", data=data, alpha=0.6)\n",
    "plt.title(\"Pressure vs Departure Delay\")\n",
    "plt.xlabel(\"Pressure (inHg)\")\n",
    "plt.ylabel(\"Departure Delay (minutes)\")\n",
    "save_chart(\"pressure_vs_delay\")"
   ]
  },
  {
   "cell_type": "code",
   "execution_count": 25,
   "id": "240de333-e059-42b2-b6d4-4606cfb97128",
   "metadata": {},
   "outputs": [
    {
     "name": "stderr",
     "output_type": "stream",
     "text": [
      "C:\\Users\\Ismail\\AppData\\Local\\Temp\\ipykernel_5356\\2808681976.py:4: DeprecationWarning: DataFrameGroupBy.apply operated on the grouping columns. This behavior is deprecated, and in a future version of pandas the grouping columns will be excluded from the operation. Either pass `include_groups=False` to exclude the groupings or explicitly select the grouping columns after groupby to silence this warning.\n",
      "  on_time_rate = data.groupby(\"OP_UNIQUE_CARRIER\").apply(\n"
     ]
    },
    {
     "name": "stdout",
     "output_type": "stream",
     "text": [
      "✅ Chart saved: charts\\on_time_performance_carrier.png\n"
     ]
    }
   ],
   "source": [
    "# -------------------------------------------------------------\n",
    "# 15. On-time performance by carrier\n",
    "# -------------------------------------------------------------\n",
    "on_time_rate = data.groupby(\"OP_UNIQUE_CARRIER\").apply(\n",
    "    lambda x: (x[\"DEP_DELAY\"] <= 0).mean() * 100\n",
    ").reset_index(name=\"OnTime_Percentage\")\n",
    "\n",
    "plt.figure(figsize=(10,5))\n",
    "sns.barplot(x=\"OP_UNIQUE_CARRIER\", y=\"OnTime_Percentage\", data=on_time_rate,hue=\"OP_UNIQUE_CARRIER\" ,palette=\"Greens_r\")\n",
    "plt.title(\"On-time Performance per Carrier\")\n",
    "plt.xlabel(\"Carrier\")\n",
    "plt.ylabel(\"On-time Percentage (%)\")\n",
    "save_chart(\"on_time_performance_carrier\")"
   ]
  },
  {
   "cell_type": "code",
   "execution_count": 26,
   "id": "7d63626c-adeb-4296-9ace-4e2f246a4261",
   "metadata": {},
   "outputs": [
    {
     "name": "stdout",
     "output_type": "stream",
     "text": [
      "✅ Chart saved: charts\\avg_delay_by_hour.png\n"
     ]
    }
   ],
   "source": [
    "# -------------------------------------------------------------\n",
    "# 16. Average delay by scheduled departure hour\n",
    "# -------------------------------------------------------------\n",
    "avg_delay_hour = data.groupby(\"sch_dep\")[\"DEP_DELAY\"].mean().reset_index()\n",
    "plt.figure(figsize=(10,5))\n",
    "sns.lineplot(x=\"sch_dep\", y=\"DEP_DELAY\", data=avg_delay_hour, marker=\"o\")\n",
    "plt.title(\"Average Delay by Scheduled Departure Hour\")\n",
    "plt.xlabel(\"Scheduled Departure Hour\")\n",
    "plt.ylabel(\"Average Delay (minutes)\")\n",
    "save_chart(\"avg_delay_by_hour\")"
   ]
  },
  {
   "cell_type": "code",
   "execution_count": 27,
   "id": "39c1e084-3098-4525-9724-25350ed99ebc",
   "metadata": {},
   "outputs": [
    {
     "name": "stdout",
     "output_type": "stream",
     "text": [
      "✅ Chart saved: charts\\worst_days_delay.png\n"
     ]
    }
   ],
   "source": [
    "# -------------------------------------------------------------\n",
    "# 17. Worst days (average delay > 15 mins)\n",
    "# -------------------------------------------------------------\n",
    "worst_days = data.groupby([\"MONTH\", \"DAY_OF_MONTH\"])[\"DEP_DELAY\"].mean().reset_index()\n",
    "worst_days = worst_days[worst_days[\"DEP_DELAY\"] > 15]\n",
    "plt.figure(figsize=(10,5))\n",
    "sns.histplot(worst_days[\"DEP_DELAY\"], bins=20, color=\"red\")\n",
    "plt.title(\"Distribution of High Delay Days (>15 min avg)\")\n",
    "plt.xlabel(\"Average Daily Delay (minutes)\")\n",
    "plt.ylabel(\"Frequency\")\n",
    "save_chart(\"worst_days_delay\")"
   ]
  },
  {
   "cell_type": "code",
   "execution_count": null,
   "id": "f2b52a52-3300-462d-ba19-f31d838da9a0",
   "metadata": {},
   "outputs": [],
   "source": []
  }
 ],
 "metadata": {
  "kernelspec": {
   "display_name": "Python 3 (ipykernel)",
   "language": "python",
   "name": "python3"
  },
  "language_info": {
   "codemirror_mode": {
    "name": "ipython",
    "version": 3
   },
   "file_extension": ".py",
   "mimetype": "text/x-python",
   "name": "python",
   "nbconvert_exporter": "python",
   "pygments_lexer": "ipython3",
   "version": "3.12.7"
  }
 },
 "nbformat": 4,
 "nbformat_minor": 5
}
